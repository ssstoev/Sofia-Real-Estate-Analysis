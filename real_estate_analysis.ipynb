{
 "cells": [
  {
   "cell_type": "code",
   "execution_count": 24,
   "metadata": {},
   "outputs": [],
   "source": [
    "import pandas as pd\n",
    "import re\n",
    "import seaborn as sns"
   ]
  },
  {
   "cell_type": "code",
   "execution_count": 18,
   "metadata": {},
   "outputs": [
    {
     "data": {
      "text/html": [
       "<div>\n",
       "<style scoped>\n",
       "    .dataframe tbody tr th:only-of-type {\n",
       "        vertical-align: middle;\n",
       "    }\n",
       "\n",
       "    .dataframe tbody tr th {\n",
       "        vertical-align: top;\n",
       "    }\n",
       "\n",
       "    .dataframe thead th {\n",
       "        text-align: right;\n",
       "    }\n",
       "</style>\n",
       "<table border=\"1\" class=\"dataframe\">\n",
       "  <thead>\n",
       "    <tr style=\"text-align: right;\">\n",
       "      <th></th>\n",
       "      <th>Real Estate Name</th>\n",
       "      <th>Location</th>\n",
       "      <th>Price (EUR)</th>\n",
       "      <th>Size (m2)</th>\n",
       "    </tr>\n",
       "  </thead>\n",
       "  <tbody>\n",
       "    <tr>\n",
       "      <th>0</th>\n",
       "      <td>Гараж, паркомясто,61 м2</td>\n",
       "      <td>София, Малинова Долина</td>\n",
       "      <td>25 000 EUR</td>\n",
       "      <td>61</td>\n",
       "    </tr>\n",
       "    <tr>\n",
       "      <th>1</th>\n",
       "      <td>Гараж, паркомясто,18 м2</td>\n",
       "      <td>София, Редута</td>\n",
       "      <td>43 000 EUR</td>\n",
       "      <td>18</td>\n",
       "    </tr>\n",
       "    <tr>\n",
       "      <th>2</th>\n",
       "      <td>Парцел,600 м2</td>\n",
       "      <td>София, Овча Купел</td>\n",
       "      <td>70 000 EUR</td>\n",
       "      <td>600</td>\n",
       "    </tr>\n",
       "    <tr>\n",
       "      <th>3</th>\n",
       "      <td>Парцел,377 м2</td>\n",
       "      <td>София, Люлин 6</td>\n",
       "      <td>45 000 EUR</td>\n",
       "      <td>377</td>\n",
       "    </tr>\n",
       "    <tr>\n",
       "      <th>4</th>\n",
       "      <td>Гараж, паркомясто,46 м2</td>\n",
       "      <td>София, Дървеница</td>\n",
       "      <td>49 900 EUR</td>\n",
       "      <td>46</td>\n",
       "    </tr>\n",
       "  </tbody>\n",
       "</table>\n",
       "</div>"
      ],
      "text/plain": [
       "          Real Estate Name                Location Price (EUR)  Size (m2)\n",
       "0  Гараж, паркомясто,61 м2  София, Малинова Долина  25 000 EUR         61\n",
       "1  Гараж, паркомясто,18 м2           София, Редута  43 000 EUR         18\n",
       "2            Парцел,600 м2       София, Овча Купел  70 000 EUR        600\n",
       "3            Парцел,377 м2          София, Люлин 6  45 000 EUR        377\n",
       "4  Гараж, паркомясто,46 м2        София, Дървеница  49 900 EUR         46"
      ]
     },
     "execution_count": 18,
     "metadata": {},
     "output_type": "execute_result"
    }
   ],
   "source": [
    "df = pd.read_excel('real_estate_sofia_50_pages.xlsx')\n",
    "df.head()"
   ]
  },
  {
   "cell_type": "markdown",
   "metadata": {},
   "source": [
    "In order to perform some analysis we need to convert the price and the size to numeric attributes.\n",
    "We can also remove the square meter size from the real estate name.\n",
    "\n",
    "Some real estates do not have a speicific price (only when you ask)(призапитване)"
   ]
  },
  {
   "cell_type": "code",
   "execution_count": 19,
   "metadata": {},
   "outputs": [
    {
     "data": {
      "text/html": [
       "<div>\n",
       "<style scoped>\n",
       "    .dataframe tbody tr th:only-of-type {\n",
       "        vertical-align: middle;\n",
       "    }\n",
       "\n",
       "    .dataframe tbody tr th {\n",
       "        vertical-align: top;\n",
       "    }\n",
       "\n",
       "    .dataframe thead th {\n",
       "        text-align: right;\n",
       "    }\n",
       "</style>\n",
       "<table border=\"1\" class=\"dataframe\">\n",
       "  <thead>\n",
       "    <tr style=\"text-align: right;\">\n",
       "      <th></th>\n",
       "      <th>Real Estate Name</th>\n",
       "      <th>Location</th>\n",
       "      <th>Price (EUR)</th>\n",
       "      <th>Size (m2)</th>\n",
       "      <th>Price p/m2</th>\n",
       "    </tr>\n",
       "  </thead>\n",
       "  <tbody>\n",
       "    <tr>\n",
       "      <th>0</th>\n",
       "      <td>Гараж, паркомясто</td>\n",
       "      <td>София, Малинова Долина</td>\n",
       "      <td>25000</td>\n",
       "      <td>61</td>\n",
       "      <td>410</td>\n",
       "    </tr>\n",
       "    <tr>\n",
       "      <th>1</th>\n",
       "      <td>Гараж, паркомясто</td>\n",
       "      <td>София, Редута</td>\n",
       "      <td>43000</td>\n",
       "      <td>18</td>\n",
       "      <td>2389</td>\n",
       "    </tr>\n",
       "    <tr>\n",
       "      <th>2</th>\n",
       "      <td>Парцел</td>\n",
       "      <td>София, Овча Купел</td>\n",
       "      <td>70000</td>\n",
       "      <td>600</td>\n",
       "      <td>117</td>\n",
       "    </tr>\n",
       "    <tr>\n",
       "      <th>3</th>\n",
       "      <td>Парцел</td>\n",
       "      <td>София, Люлин 6</td>\n",
       "      <td>45000</td>\n",
       "      <td>377</td>\n",
       "      <td>119</td>\n",
       "    </tr>\n",
       "    <tr>\n",
       "      <th>4</th>\n",
       "      <td>Гараж, паркомясто</td>\n",
       "      <td>София, Дървеница</td>\n",
       "      <td>49900</td>\n",
       "      <td>46</td>\n",
       "      <td>1085</td>\n",
       "    </tr>\n",
       "  </tbody>\n",
       "</table>\n",
       "</div>"
      ],
      "text/plain": [
       "    Real Estate Name                Location  Price (EUR)  Size (m2)  \\\n",
       "0  Гараж, паркомясто  София, Малинова Долина        25000         61   \n",
       "1  Гараж, паркомясто           София, Редута        43000         18   \n",
       "2             Парцел       София, Овча Купел        70000        600   \n",
       "3             Парцел          София, Люлин 6        45000        377   \n",
       "4  Гараж, паркомясто        София, Дървеница        49900         46   \n",
       "\n",
       "   Price p/m2  \n",
       "0         410  \n",
       "1        2389  \n",
       "2         117  \n",
       "3         119  \n",
       "4        1085  "
      ]
     },
     "execution_count": 19,
     "metadata": {},
     "output_type": "execute_result"
    }
   ],
   "source": [
    "# remove values which do not have a specific price\n",
    "df = df[df['Price (EUR)'] != 'при запитване']\n",
    "\n",
    "# replace the EUR part from the price values with an empty space\n",
    "df['Price (EUR)'] = df['Price (EUR)'].str.replace('EUR', '')\n",
    "\n",
    "# remove the empty space and convert to integer\n",
    "df['Price (EUR)'] = df['Price (EUR)'].str.replace(' ', '').astype(int)\n",
    "\n",
    "# remove the size and sq m2 from the RE name\n",
    "df['Real Estate Name'] = df['Real Estate Name'].str.replace(r',\\d+\\s*м2', '', regex=True)\n",
    "\n",
    "# create a price p/sq meter column\n",
    "df['Price p/m2'] = (df['Price (EUR)']/df['Size (m2)']).round(0).astype(int)\n",
    "\n",
    "df.head()"
   ]
  },
  {
   "cell_type": "markdown",
   "metadata": {},
   "source": [
    "Next, let us try to infer from the name of the real estate what type is it\n",
    "(garage, 1/2/3/4 bedroom apartment, house, land, etc.)"
   ]
  },
  {
   "cell_type": "code",
   "execution_count": 11,
   "metadata": {},
   "outputs": [
    {
     "data": {
      "text/plain": [
       "['Гараж, паркомясто',\n",
       " 'Парцел',\n",
       " 'Едностаен апартамент',\n",
       " 'Двустаен апартамент',\n",
       " 'Сграда, жилищна',\n",
       " 'Магазин',\n",
       " 'Тристаен апартамент',\n",
       " 'Многостаен апартамент',\n",
       " 'Офис',\n",
       " 'Къща',\n",
       " 'Четиристаен апартамент',\n",
       " 'Мезонет',\n",
       " 'Сграда',\n",
       " 'Хотел',\n",
       " 'Земеделски имот',\n",
       " 'Ателие,Таван, Студио',\n",
       " 'Склад',\n",
       " 'Етаж от къща',\n",
       " 'Заведение',\n",
       " 'Сутерен, Мазе, Партер',\n",
       " 'Търговски обект']"
      ]
     },
     "execution_count": 11,
     "metadata": {},
     "output_type": "execute_result"
    }
   ],
   "source": [
    "df['Real Estate Name'].unique().tolist()"
   ]
  },
  {
   "cell_type": "code",
   "execution_count": 32,
   "metadata": {},
   "outputs": [
    {
     "data": {
      "image/png": "[encoded data removed]",
      "text/plain": [
       "<Figure size 640x480 with 1 Axes>"
      ]
     },
     "metadata": {},
     "output_type": "display_data"
    }
   ],
   "source": [
    "sns.boxplot(df, x = 'Price p/m2', y = 'Real Estate Name').set_title('Price of real estate in Sofia, BG');"
   ]
  },
  {
   "cell_type": "markdown",
   "metadata": {},
   "source": [
    "Let's keep only real estates for living purposes"
   ]
  },
  {
   "cell_type": "code",
   "execution_count": 22,
   "metadata": {},
   "outputs": [
    {
     "data": {
      "text/plain": [
       "['Едностаен апартамент',\n",
       " 'Двустаен апартамент',\n",
       " 'Тристаен апартамент',\n",
       " 'Многостаен апартамент',\n",
       " 'Къща',\n",
       " 'Четиристаен апартамент',\n",
       " 'Мезонет']"
      ]
     },
     "execution_count": 22,
     "metadata": {},
     "output_type": "execute_result"
    }
   ],
   "source": [
    "# list of real estates fro living purposes\n",
    "living_re = ['Едностаен апартамент', 'Двустаен апартамент', 'Тристаен апартамент', 'Многостаен апартамент', 'Къща', 'Четиристаен апартамент', 'Мезонет']\n",
    "\n",
    "df_living_re = df[df['Real Estate Name'].isin(living_re)]\n",
    "df_living_re['Real Estate Name'].unique().tolist()"
   ]
  },
  {
   "cell_type": "code",
   "execution_count": 23,
   "metadata": {},
   "outputs": [
    {
     "name": "stdout",
     "output_type": "stream",
     "text": [
      "<class 'pandas.core.frame.DataFrame'>\n",
      "Int64Index: 212 entries, 5 to 575\n",
      "Data columns (total 5 columns):\n",
      " #   Column            Non-Null Count  Dtype \n",
      "---  ------            --------------  ----- \n",
      " 0   Real Estate Name  212 non-null    object\n",
      " 1   Location          212 non-null    object\n",
      " 2   Price (EUR)       212 non-null    int32 \n",
      " 3   Size (m2)         212 non-null    int64 \n",
      " 4   Price p/m2        212 non-null    int32 \n",
      "dtypes: int32(2), int64(1), object(2)\n",
      "memory usage: 8.3+ KB\n"
     ]
    }
   ],
   "source": [
    "df_living_re.info()"
   ]
  },
  {
   "cell_type": "code",
   "execution_count": 39,
   "metadata": {},
   "outputs": [
    {
     "data": {
      "text/plain": [
       "Text(0.5, 1.0, 'Price of living RE in Sofia')"
      ]
     },
     "execution_count": 39,
     "metadata": {},
     "output_type": "execute_result"
    },
    {
     "data": {
      "image/png": "[encoded data removed]",
      "text/plain": [
       "<Figure size 640x480 with 1 Axes>"
      ]
     },
     "metadata": {},
     "output_type": "display_data"
    }
   ],
   "source": [
    "sns.boxplot(df_living_re, y = 'Price p/m2').set_title('Price of living RE in Sofia')"
   ]
  },
  {
   "cell_type": "markdown",
   "metadata": {},
   "source": [
    "Let's see the most expensive neighbourhoods in Sofia"
   ]
  },
  {
   "cell_type": "code",
   "execution_count": 33,
   "metadata": {},
   "outputs": [
    {
     "name": "stderr",
     "output_type": "stream",
     "text": [
      "C:\\Users\\20184276\\AppData\\Local\\Temp\\ipykernel_22272\\1315802379.py:2: SettingWithCopyWarning: \n",
      "A value is trying to be set on a copy of a slice from a DataFrame.\n",
      "Try using .loc[row_indexer,col_indexer] = value instead\n",
      "\n",
      "See the caveats in the documentation: https://pandas.pydata.org/pandas-docs/stable/user_guide/indexing.html#returning-a-view-versus-a-copy\n",
      "  df_living_re['Location'] = df_living_re['Location'].str.replace('София,', '')\n"
     ]
    },
    {
     "data": {
      "text/html": [
       "<div>\n",
       "<style scoped>\n",
       "    .dataframe tbody tr th:only-of-type {\n",
       "        vertical-align: middle;\n",
       "    }\n",
       "\n",
       "    .dataframe tbody tr th {\n",
       "        vertical-align: top;\n",
       "    }\n",
       "\n",
       "    .dataframe thead th {\n",
       "        text-align: right;\n",
       "    }\n",
       "</style>\n",
       "<table border=\"1\" class=\"dataframe\">\n",
       "  <thead>\n",
       "    <tr style=\"text-align: right;\">\n",
       "      <th></th>\n",
       "      <th>Real Estate Name</th>\n",
       "      <th>Location</th>\n",
       "      <th>Price (EUR)</th>\n",
       "      <th>Size (m2)</th>\n",
       "      <th>Price p/m2</th>\n",
       "    </tr>\n",
       "  </thead>\n",
       "  <tbody>\n",
       "    <tr>\n",
       "      <th>5</th>\n",
       "      <td>Едностаен апартамент</td>\n",
       "      <td>Драгалевци</td>\n",
       "      <td>60800</td>\n",
       "      <td>32</td>\n",
       "      <td>1900</td>\n",
       "    </tr>\n",
       "    <tr>\n",
       "      <th>6</th>\n",
       "      <td>Двустаен апартамент</td>\n",
       "      <td>Полигона</td>\n",
       "      <td>98254</td>\n",
       "      <td>59</td>\n",
       "      <td>1665</td>\n",
       "    </tr>\n",
       "    <tr>\n",
       "      <th>7</th>\n",
       "      <td>Едностаен апартамент</td>\n",
       "      <td>Овча Купел 2</td>\n",
       "      <td>95000</td>\n",
       "      <td>45</td>\n",
       "      <td>2111</td>\n",
       "    </tr>\n",
       "    <tr>\n",
       "      <th>8</th>\n",
       "      <td>Двустаен апартамент</td>\n",
       "      <td>Красна Поляна</td>\n",
       "      <td>98900</td>\n",
       "      <td>60</td>\n",
       "      <td>1648</td>\n",
       "    </tr>\n",
       "    <tr>\n",
       "      <th>9</th>\n",
       "      <td>Едностаен апартамент</td>\n",
       "      <td>Надежда 4</td>\n",
       "      <td>92900</td>\n",
       "      <td>50</td>\n",
       "      <td>1858</td>\n",
       "    </tr>\n",
       "  </tbody>\n",
       "</table>\n",
       "</div>"
      ],
      "text/plain": [
       "       Real Estate Name        Location  Price (EUR)  Size (m2)  Price p/m2\n",
       "5  Едностаен апартамент      Драгалевци        60800         32        1900\n",
       "6   Двустаен апартамент        Полигона        98254         59        1665\n",
       "7  Едностаен апартамент    Овча Купел 2        95000         45        2111\n",
       "8   Двустаен апартамент   Красна Поляна        98900         60        1648\n",
       "9  Едностаен апартамент       Надежда 4        92900         50        1858"
      ]
     },
     "execution_count": 33,
     "metadata": {},
     "output_type": "execute_result"
    }
   ],
   "source": [
    "# remove Sofia from the Location column\n",
    "df_living_re['Location'] = df_living_re['Location'].str.replace('София,', '')\n",
    "df_living_re.head()"
   ]
  },
  {
   "cell_type": "code",
   "execution_count": 53,
   "metadata": {},
   "outputs": [
    {
     "data": {
      "text/html": [
       "<div>\n",
       "<style scoped>\n",
       "    .dataframe tbody tr th:only-of-type {\n",
       "        vertical-align: middle;\n",
       "    }\n",
       "\n",
       "    .dataframe tbody tr th {\n",
       "        vertical-align: top;\n",
       "    }\n",
       "\n",
       "    .dataframe thead th {\n",
       "        text-align: right;\n",
       "    }\n",
       "</style>\n",
       "<table border=\"1\" class=\"dataframe\">\n",
       "  <thead>\n",
       "    <tr style=\"text-align: right;\">\n",
       "      <th></th>\n",
       "      <th>Location</th>\n",
       "      <th>Price p/m2</th>\n",
       "    </tr>\n",
       "  </thead>\n",
       "  <tbody>\n",
       "    <tr>\n",
       "      <th>7</th>\n",
       "      <td>Гео Милев</td>\n",
       "      <td>4185.000000</td>\n",
       "    </tr>\n",
       "    <tr>\n",
       "      <th>19</th>\n",
       "      <td>Изгрев</td>\n",
       "      <td>3953.000000</td>\n",
       "    </tr>\n",
       "    <tr>\n",
       "      <th>42</th>\n",
       "      <td>Манастирски ливади Изток</td>\n",
       "      <td>3536.000000</td>\n",
       "    </tr>\n",
       "    <tr>\n",
       "      <th>29</th>\n",
       "      <td>Лозенец</td>\n",
       "      <td>3247.333333</td>\n",
       "    </tr>\n",
       "    <tr>\n",
       "      <th>70</th>\n",
       "      <td>Център</td>\n",
       "      <td>3199.333333</td>\n",
       "    </tr>\n",
       "    <tr>\n",
       "      <th>...</th>\n",
       "      <td>...</td>\n",
       "      <td>...</td>\n",
       "    </tr>\n",
       "    <tr>\n",
       "      <th>51</th>\n",
       "      <td>Нови Искър (гр.)</td>\n",
       "      <td>889.000000</td>\n",
       "    </tr>\n",
       "    <tr>\n",
       "      <th>39</th>\n",
       "      <td>Мало Бучино</td>\n",
       "      <td>863.333333</td>\n",
       "    </tr>\n",
       "    <tr>\n",
       "      <th>3</th>\n",
       "      <td>Ботунец</td>\n",
       "      <td>861.250000</td>\n",
       "    </tr>\n",
       "    <tr>\n",
       "      <th>68</th>\n",
       "      <td>Филиповци</td>\n",
       "      <td>794.000000</td>\n",
       "    </tr>\n",
       "    <tr>\n",
       "      <th>67</th>\n",
       "      <td>Факултета</td>\n",
       "      <td>783.000000</td>\n",
       "    </tr>\n",
       "  </tbody>\n",
       "</table>\n",
       "<p>73 rows × 2 columns</p>\n",
       "</div>"
      ],
      "text/plain": [
       "                     Location   Price p/m2\n",
       "7                   Гео Милев  4185.000000\n",
       "19                     Изгрев  3953.000000\n",
       "42   Манастирски ливади Изток  3536.000000\n",
       "29                    Лозенец  3247.333333\n",
       "70                     Център  3199.333333\n",
       "..                        ...          ...\n",
       "51           Нови Искър (гр.)   889.000000\n",
       "39                Мало Бучино   863.333333\n",
       "3                     Ботунец   861.250000\n",
       "68                  Филиповци   794.000000\n",
       "67                  Факултета   783.000000\n",
       "\n",
       "[73 rows x 2 columns]"
      ]
     },
     "execution_count": 53,
     "metadata": {},
     "output_type": "execute_result"
    }
   ],
   "source": [
    "# Group by neighbourhood to see avg price for each\n",
    "df_neighburhood_grouped = df_living_re.groupby('Location')['Price p/m2'].mean().reset_index()\n",
    "df_neighburhood_grouped.sort_values(by='Price p/m2', ascending=False)"
   ]
  }
 ],
 "metadata": {
  "kernelspec": {
   "display_name": "Python 3",
   "language": "python",
   "name": "python3"
  },
  "language_info": {
   "codemirror_mode": {
    "name": "ipython",
    "version": 3
   },
   "file_extension": ".py",
   "mimetype": "text/x-python",
   "name": "python",
   "nbconvert_exporter": "python",
   "pygments_lexer": "ipython3",
   "version": "3.10.2"
  }
 },
 "nbformat": 4,
 "nbformat_minor": 2
}
