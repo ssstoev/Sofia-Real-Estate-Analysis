{
 "cells": [
  {
   "cell_type": "code",
   "execution_count": 36,
   "metadata": {},
   "outputs": [],
   "source": [
    "import pandas as pd\n",
    "import re\n",
    "import seaborn as sns"
   ]
  },
  {
   "cell_type": "code",
   "execution_count": 37,
   "metadata": {},
   "outputs": [
    {
     "data": {
      "text/html": [
       "<div>\n",
       "<style scoped>\n",
       "    .dataframe tbody tr th:only-of-type {\n",
       "        vertical-align: middle;\n",
       "    }\n",
       "\n",
       "    .dataframe tbody tr th {\n",
       "        vertical-align: top;\n",
       "    }\n",
       "\n",
       "    .dataframe thead th {\n",
       "        text-align: right;\n",
       "    }\n",
       "</style>\n",
       "<table border=\"1\" class=\"dataframe\">\n",
       "  <thead>\n",
       "    <tr style=\"text-align: right;\">\n",
       "      <th></th>\n",
       "      <th>Real Estate Name</th>\n",
       "      <th>Location</th>\n",
       "      <th>Price (EUR)</th>\n",
       "      <th>Size (m2)</th>\n",
       "    </tr>\n",
       "  </thead>\n",
       "  <tbody>\n",
       "    <tr>\n",
       "      <th>0</th>\n",
       "      <td>Едностаен апартамент,32 м2</td>\n",
       "      <td>София, Драгалевци</td>\n",
       "      <td>60 800 EUR</td>\n",
       "      <td>32.0</td>\n",
       "    </tr>\n",
       "    <tr>\n",
       "      <th>1</th>\n",
       "      <td>Двустаен апартамент,59 м2</td>\n",
       "      <td>София, Дружба 1</td>\n",
       "      <td>149 000 EUR</td>\n",
       "      <td>59.0</td>\n",
       "    </tr>\n",
       "    <tr>\n",
       "      <th>2</th>\n",
       "      <td>Едностаен апартамент,45 м2</td>\n",
       "      <td>София, Манастирски Ливади</td>\n",
       "      <td>143 000 EUR</td>\n",
       "      <td>45.0</td>\n",
       "    </tr>\n",
       "    <tr>\n",
       "      <th>3</th>\n",
       "      <td>Двустаен апартамент,60 м2</td>\n",
       "      <td>София, Център</td>\n",
       "      <td>300 000 EUR</td>\n",
       "      <td>60.0</td>\n",
       "    </tr>\n",
       "    <tr>\n",
       "      <th>4</th>\n",
       "      <td>Едностаен апартамент,50 м2</td>\n",
       "      <td>София, Младост 4</td>\n",
       "      <td>130 000 EUR</td>\n",
       "      <td>50.0</td>\n",
       "    </tr>\n",
       "  </tbody>\n",
       "</table>\n",
       "</div>"
      ],
      "text/plain": [
       "             Real Estate Name                   Location  Price (EUR)  \\\n",
       "0  Едностаен апартамент,32 м2          София, Драгалевци   60 800 EUR   \n",
       "1   Двустаен апартамент,59 м2            София, Дружба 1  149 000 EUR   \n",
       "2  Едностаен апартамент,45 м2  София, Манастирски Ливади  143 000 EUR   \n",
       "3   Двустаен апартамент,60 м2              София, Център  300 000 EUR   \n",
       "4  Едностаен апартамент,50 м2           София, Младост 4  130 000 EUR   \n",
       "\n",
       "   Size (m2)  \n",
       "0       32.0  \n",
       "1       59.0  \n",
       "2       45.0  \n",
       "3       60.0  \n",
       "4       50.0  "
      ]
     },
     "execution_count": 37,
     "metadata": {},
     "output_type": "execute_result"
    }
   ],
   "source": [
    "df = pd.read_excel('real_estate_sofia_357_pages.xlsx')\n",
    "df.head()"
   ]
  },
  {
   "cell_type": "code",
   "execution_count": 38,
   "metadata": {},
   "outputs": [
    {
     "name": "stdout",
     "output_type": "stream",
     "text": [
      "<class 'pandas.core.frame.DataFrame'>\n",
      "RangeIndex: 1239 entries, 0 to 1238\n",
      "Data columns (total 4 columns):\n",
      " #   Column            Non-Null Count  Dtype  \n",
      "---  ------            --------------  -----  \n",
      " 0   Real Estate Name  1239 non-null   object \n",
      " 1   Location          1239 non-null   object \n",
      " 2   Price (EUR)       1239 non-null   object \n",
      " 3   Size (m2)         1237 non-null   float64\n",
      "dtypes: float64(1), object(3)\n",
      "memory usage: 38.8+ KB\n"
     ]
    }
   ],
   "source": [
    "df.info()"
   ]
  },
  {
   "cell_type": "markdown",
   "metadata": {},
   "source": [
    "In order to perform some analysis we need to convert the price and the size to numeric attributes.\n",
    "We can also remove the square meter size from the real estate name. Some posts have missing data in them so we can drop those\n",
    "\n",
    "Some real estates do not have a speicific price (only when you ask)(призапитване)"
   ]
  },
  {
   "cell_type": "code",
   "execution_count": 39,
   "metadata": {},
   "outputs": [
    {
     "name": "stdout",
     "output_type": "stream",
     "text": [
      "<class 'pandas.core.frame.DataFrame'>\n",
      "Int64Index: 1237 entries, 0 to 1238\n",
      "Data columns (total 4 columns):\n",
      " #   Column            Non-Null Count  Dtype  \n",
      "---  ------            --------------  -----  \n",
      " 0   Real Estate Name  1237 non-null   object \n",
      " 1   Location          1237 non-null   object \n",
      " 2   Price (EUR)       1237 non-null   object \n",
      " 3   Size (m2)         1237 non-null   float64\n",
      "dtypes: float64(1), object(3)\n",
      "memory usage: 48.3+ KB\n"
     ]
    }
   ],
   "source": [
    "df.dropna(inplace=True)\n",
    "df.info()"
   ]
  },
  {
   "cell_type": "code",
   "execution_count": 40,
   "metadata": {},
   "outputs": [
    {
     "data": {
      "text/html": [
       "<div>\n",
       "<style scoped>\n",
       "    .dataframe tbody tr th:only-of-type {\n",
       "        vertical-align: middle;\n",
       "    }\n",
       "\n",
       "    .dataframe tbody tr th {\n",
       "        vertical-align: top;\n",
       "    }\n",
       "\n",
       "    .dataframe thead th {\n",
       "        text-align: right;\n",
       "    }\n",
       "</style>\n",
       "<table border=\"1\" class=\"dataframe\">\n",
       "  <thead>\n",
       "    <tr style=\"text-align: right;\">\n",
       "      <th></th>\n",
       "      <th>Real Estate Name</th>\n",
       "      <th>Location</th>\n",
       "      <th>Price (EUR)</th>\n",
       "      <th>Size (m2)</th>\n",
       "      <th>Price p/m2</th>\n",
       "    </tr>\n",
       "  </thead>\n",
       "  <tbody>\n",
       "    <tr>\n",
       "      <th>0</th>\n",
       "      <td>Едностаен апартамент</td>\n",
       "      <td>София, Драгалевци</td>\n",
       "      <td>60800</td>\n",
       "      <td>32.0</td>\n",
       "      <td>1900</td>\n",
       "    </tr>\n",
       "    <tr>\n",
       "      <th>1</th>\n",
       "      <td>Двустаен апартамент</td>\n",
       "      <td>София, Дружба 1</td>\n",
       "      <td>149000</td>\n",
       "      <td>59.0</td>\n",
       "      <td>2525</td>\n",
       "    </tr>\n",
       "    <tr>\n",
       "      <th>2</th>\n",
       "      <td>Едностаен апартамент</td>\n",
       "      <td>София, Манастирски Ливади</td>\n",
       "      <td>143000</td>\n",
       "      <td>45.0</td>\n",
       "      <td>3178</td>\n",
       "    </tr>\n",
       "    <tr>\n",
       "      <th>3</th>\n",
       "      <td>Двустаен апартамент</td>\n",
       "      <td>София, Център</td>\n",
       "      <td>300000</td>\n",
       "      <td>60.0</td>\n",
       "      <td>5000</td>\n",
       "    </tr>\n",
       "    <tr>\n",
       "      <th>4</th>\n",
       "      <td>Едностаен апартамент</td>\n",
       "      <td>София, Младост 4</td>\n",
       "      <td>130000</td>\n",
       "      <td>50.0</td>\n",
       "      <td>2600</td>\n",
       "    </tr>\n",
       "  </tbody>\n",
       "</table>\n",
       "</div>"
      ],
      "text/plain": [
       "       Real Estate Name                   Location  Price (EUR)  Size (m2)  \\\n",
       "0  Едностаен апартамент          София, Драгалевци        60800       32.0   \n",
       "1   Двустаен апартамент            София, Дружба 1       149000       59.0   \n",
       "2  Едностаен апартамент  София, Манастирски Ливади       143000       45.0   \n",
       "3   Двустаен апартамент              София, Център       300000       60.0   \n",
       "4  Едностаен апартамент           София, Младост 4       130000       50.0   \n",
       "\n",
       "   Price p/m2  \n",
       "0        1900  \n",
       "1        2525  \n",
       "2        3178  \n",
       "3        5000  \n",
       "4        2600  "
      ]
     },
     "execution_count": 40,
     "metadata": {},
     "output_type": "execute_result"
    }
   ],
   "source": [
    "# remove values which do not have a specific price\n",
    "df = df[df['Price (EUR)'] != 'при запитване']\n",
    "\n",
    "# replace the EUR part from the price values with an empty space\n",
    "df['Price (EUR)'] = df['Price (EUR)'].str.replace('EUR', '')\n",
    "\n",
    "# remove the empty space and convert to integer\n",
    "df['Price (EUR)'] = df['Price (EUR)'].str.replace(' ', '').astype(int)\n",
    "\n",
    "# remove the size and sq m2 from the RE name\n",
    "df['Real Estate Name'] = df['Real Estate Name'].str.replace(r',\\d+\\s*м2', '', regex=True)\n",
    "\n",
    "# create a price p/sq meter column\n",
    "df['Price p/m2'] = (df['Price (EUR)']/df['Size (m2)']).round(0).astype(int)\n",
    "\n",
    "df.head()"
   ]
  },
  {
   "cell_type": "markdown",
   "metadata": {},
   "source": [
    "Let's see what type of real estate for living purposes do we have in the dataset."
   ]
  },
  {
   "cell_type": "code",
   "execution_count": 41,
   "metadata": {},
   "outputs": [
    {
     "data": {
      "text/plain": [
       "['Едностаен апартамент',\n",
       " 'Двустаен апартамент',\n",
       " 'Тристаен апартамент',\n",
       " 'Многостаен апартамент',\n",
       " 'Къща',\n",
       " 'Четиристаен апартамент',\n",
       " 'Мезонет',\n",
       " 'Ателие,Таван, Студио']"
      ]
     },
     "execution_count": 41,
     "metadata": {},
     "output_type": "execute_result"
    }
   ],
   "source": [
    "df['Real Estate Name'].unique().tolist()"
   ]
  },
  {
   "cell_type": "code",
   "execution_count": 42,
   "metadata": {},
   "outputs": [
    {
     "data": {
      "image/png": "[encoded data removed]",
      "text/plain": [
       "<Figure size 640x480 with 1 Axes>"
      ]
     },
     "metadata": {},
     "output_type": "display_data"
    }
   ],
   "source": [
    "sns.boxplot(df, x = 'Price p/m2', y = 'Real Estate Name').set_title('Price of real estate in Sofia, BG');"
   ]
  },
  {
   "cell_type": "code",
   "execution_count": 43,
   "metadata": {},
   "outputs": [
    {
     "data": {
      "text/plain": [
       "Text(0.5, 1.0, 'Price of living RE in Sofia (EUR p/m2)')"
      ]
     },
     "execution_count": 43,
     "metadata": {},
     "output_type": "execute_result"
    },
    {
     "data": {
      "image/png": "[encoded data removed]",
      "text/plain": [
       "<Figure size 640x480 with 1 Axes>"
      ]
     },
     "metadata": {},
     "output_type": "display_data"
    }
   ],
   "source": [
    "sns.boxplot(df, y = 'Price p/m2').set_title('Price of living RE in Sofia (EUR p/m2)')"
   ]
  },
  {
   "cell_type": "markdown",
   "metadata": {},
   "source": [
    "Let's see the most expensive neighbourhoods in Sofia"
   ]
  },
  {
   "cell_type": "code",
   "execution_count": 44,
   "metadata": {},
   "outputs": [
    {
     "data": {
      "text/html": [
       "<div>\n",
       "<style scoped>\n",
       "    .dataframe tbody tr th:only-of-type {\n",
       "        vertical-align: middle;\n",
       "    }\n",
       "\n",
       "    .dataframe tbody tr th {\n",
       "        vertical-align: top;\n",
       "    }\n",
       "\n",
       "    .dataframe thead th {\n",
       "        text-align: right;\n",
       "    }\n",
       "</style>\n",
       "<table border=\"1\" class=\"dataframe\">\n",
       "  <thead>\n",
       "    <tr style=\"text-align: right;\">\n",
       "      <th></th>\n",
       "      <th>Real Estate Name</th>\n",
       "      <th>Location</th>\n",
       "      <th>Price (EUR)</th>\n",
       "      <th>Size (m2)</th>\n",
       "      <th>Price p/m2</th>\n",
       "    </tr>\n",
       "  </thead>\n",
       "  <tbody>\n",
       "    <tr>\n",
       "      <th>0</th>\n",
       "      <td>Едностаен апартамент</td>\n",
       "      <td>Драгалевци</td>\n",
       "      <td>60800</td>\n",
       "      <td>32.0</td>\n",
       "      <td>1900</td>\n",
       "    </tr>\n",
       "    <tr>\n",
       "      <th>1</th>\n",
       "      <td>Двустаен апартамент</td>\n",
       "      <td>Дружба 1</td>\n",
       "      <td>149000</td>\n",
       "      <td>59.0</td>\n",
       "      <td>2525</td>\n",
       "    </tr>\n",
       "    <tr>\n",
       "      <th>2</th>\n",
       "      <td>Едностаен апартамент</td>\n",
       "      <td>Манастирски Ливади</td>\n",
       "      <td>143000</td>\n",
       "      <td>45.0</td>\n",
       "      <td>3178</td>\n",
       "    </tr>\n",
       "    <tr>\n",
       "      <th>3</th>\n",
       "      <td>Двустаен апартамент</td>\n",
       "      <td>Център</td>\n",
       "      <td>300000</td>\n",
       "      <td>60.0</td>\n",
       "      <td>5000</td>\n",
       "    </tr>\n",
       "    <tr>\n",
       "      <th>4</th>\n",
       "      <td>Едностаен апартамент</td>\n",
       "      <td>Младост 4</td>\n",
       "      <td>130000</td>\n",
       "      <td>50.0</td>\n",
       "      <td>2600</td>\n",
       "    </tr>\n",
       "  </tbody>\n",
       "</table>\n",
       "</div>"
      ],
      "text/plain": [
       "       Real Estate Name             Location  Price (EUR)  Size (m2)  \\\n",
       "0  Едностаен апартамент           Драгалевци        60800       32.0   \n",
       "1   Двустаен апартамент             Дружба 1       149000       59.0   \n",
       "2  Едностаен апартамент   Манастирски Ливади       143000       45.0   \n",
       "3   Двустаен апартамент               Център       300000       60.0   \n",
       "4  Едностаен апартамент            Младост 4       130000       50.0   \n",
       "\n",
       "   Price p/m2  \n",
       "0        1900  \n",
       "1        2525  \n",
       "2        3178  \n",
       "3        5000  \n",
       "4        2600  "
      ]
     },
     "execution_count": 44,
     "metadata": {},
     "output_type": "execute_result"
    }
   ],
   "source": [
    "# remove Sofia from the Location column\n",
    "df['Location'] = df['Location'].str.replace('София,', '')\n",
    "df.head()"
   ]
  },
  {
   "cell_type": "code",
   "execution_count": 75,
   "metadata": {},
   "outputs": [
    {
     "data": {
      "text/html": [
       "<div>\n",
       "<style scoped>\n",
       "    .dataframe tbody tr th:only-of-type {\n",
       "        vertical-align: middle;\n",
       "    }\n",
       "\n",
       "    .dataframe tbody tr th {\n",
       "        vertical-align: top;\n",
       "    }\n",
       "\n",
       "    .dataframe thead th {\n",
       "        text-align: right;\n",
       "    }\n",
       "</style>\n",
       "<table border=\"1\" class=\"dataframe\">\n",
       "  <thead>\n",
       "    <tr style=\"text-align: right;\">\n",
       "      <th></th>\n",
       "      <th>Location</th>\n",
       "      <th>min price</th>\n",
       "      <th>max price</th>\n",
       "      <th>avg price</th>\n",
       "    </tr>\n",
       "  </thead>\n",
       "  <tbody>\n",
       "    <tr>\n",
       "      <th>0</th>\n",
       "      <td>Център, ул. Княз Борис І</td>\n",
       "      <td>5417</td>\n",
       "      <td>5417</td>\n",
       "      <td>5417.0</td>\n",
       "    </tr>\n",
       "    <tr>\n",
       "      <th>1</th>\n",
       "      <td>Център, Докторски паметник</td>\n",
       "      <td>5224</td>\n",
       "      <td>5224</td>\n",
       "      <td>5224.0</td>\n",
       "    </tr>\n",
       "    <tr>\n",
       "      <th>2</th>\n",
       "      <td>Център, ул. Стефан Караджа</td>\n",
       "      <td>5072</td>\n",
       "      <td>5072</td>\n",
       "      <td>5072.0</td>\n",
       "    </tr>\n",
       "    <tr>\n",
       "      <th>3</th>\n",
       "      <td>Център, бул. Витоша</td>\n",
       "      <td>4615</td>\n",
       "      <td>4615</td>\n",
       "      <td>4615.0</td>\n",
       "    </tr>\n",
       "    <tr>\n",
       "      <th>4</th>\n",
       "      <td>Бенковски</td>\n",
       "      <td>4390</td>\n",
       "      <td>4390</td>\n",
       "      <td>4390.0</td>\n",
       "    </tr>\n",
       "    <tr>\n",
       "      <th>...</th>\n",
       "      <td>...</td>\n",
       "      <td>...</td>\n",
       "      <td>...</td>\n",
       "      <td>...</td>\n",
       "    </tr>\n",
       "    <tr>\n",
       "      <th>104</th>\n",
       "      <td>Казичене (с.)</td>\n",
       "      <td>1004</td>\n",
       "      <td>1004</td>\n",
       "      <td>1004.0</td>\n",
       "    </tr>\n",
       "    <tr>\n",
       "      <th>105</th>\n",
       "      <td>Мало Бучино</td>\n",
       "      <td>635</td>\n",
       "      <td>1081</td>\n",
       "      <td>858.0</td>\n",
       "    </tr>\n",
       "    <tr>\n",
       "      <th>106</th>\n",
       "      <td>Ботунец</td>\n",
       "      <td>789</td>\n",
       "      <td>789</td>\n",
       "      <td>789.0</td>\n",
       "    </tr>\n",
       "    <tr>\n",
       "      <th>107</th>\n",
       "      <td>Филиповци</td>\n",
       "      <td>735</td>\n",
       "      <td>735</td>\n",
       "      <td>735.0</td>\n",
       "    </tr>\n",
       "    <tr>\n",
       "      <th>108</th>\n",
       "      <td>Враждебна</td>\n",
       "      <td>705</td>\n",
       "      <td>705</td>\n",
       "      <td>705.0</td>\n",
       "    </tr>\n",
       "  </tbody>\n",
       "</table>\n",
       "<p>109 rows × 4 columns</p>\n",
       "</div>"
      ],
      "text/plain": [
       "                        Location  min price  max price  avg price\n",
       "0       Център, ул. Княз Борис І       5417       5417     5417.0\n",
       "1     Център, Докторски паметник       5224       5224     5224.0\n",
       "2     Център, ул. Стефан Караджа       5072       5072     5072.0\n",
       "3            Център, бул. Витоша       4615       4615     4615.0\n",
       "4                      Бенковски       4390       4390     4390.0\n",
       "..                           ...        ...        ...        ...\n",
       "104                Казичене (с.)       1004       1004     1004.0\n",
       "105                  Мало Бучино        635       1081      858.0\n",
       "106                      Ботунец        789        789      789.0\n",
       "107                    Филиповци        735        735      735.0\n",
       "108                    Враждебна        705        705      705.0\n",
       "\n",
       "[109 rows x 4 columns]"
      ]
     },
     "execution_count": 75,
     "metadata": {},
     "output_type": "execute_result"
    }
   ],
   "source": [
    "# Group by neighbourhood to see min, max and avg price for each neighbourhood\n",
    "df_neighburhood_price_grouped = df.groupby('Location')['Price p/m2'].agg(['min', 'max', 'mean']).reset_index()\n",
    "\n",
    "# rename the column names \n",
    "df_neighburhood_price_grouped.rename(columns={'min': 'min price', 'max': 'max price', 'mean': 'avg price'}, inplace=True)\n",
    "\n",
    "df_neighburhood_price_grouped.sort_values(by='avg price', ascending=False, inplace=True)\n",
    "\n",
    "df_neighburhood_price_grouped.reset_index(drop=True)"
   ]
  },
  {
   "cell_type": "markdown",
   "metadata": {},
   "source": [
    "The most expensive neighbourhoods to live in Sofia (based on price p/m2) are in the City Centre (prices are > 4500 eur p/m2). Whereas the cheapest ones where the suare meter is < 1000 EUR are Kazichene, Malo Buchino, Botunec, etc."
   ]
  },
  {
   "cell_type": "markdown",
   "metadata": {},
   "source": [
    "Let's see which type of accomodation is the most expensive one (1/2/3 or 4 bedroom appartment)"
   ]
  },
  {
   "cell_type": "code",
   "execution_count": 46,
   "metadata": {},
   "outputs": [
    {
     "data": {
      "text/plain": [
       "Real Estate Name\n",
       "Ателие,Таван, Студио      1958.916667\n",
       "Мезонет                   2057.365385\n",
       "Къща                      2287.113712\n",
       "Едностаен апартамент      2398.326087\n",
       "Многостаен апартамент     2669.895238\n",
       "Четиристаен апартамент    2900.963731\n",
       "Двустаен апартамент       2901.605263\n",
       "Тристаен апартамент       3235.762431\n",
       "Name: Price p/m2, dtype: float64"
      ]
     },
     "execution_count": 46,
     "metadata": {},
     "output_type": "execute_result"
    }
   ],
   "source": [
    "df_appartment_type_grouped = df.groupby('Real Estate Name')['Price p/m2'].mean()\n",
    "df_appartment_type_grouped.sort_values()"
   ]
  },
  {
   "cell_type": "markdown",
   "metadata": {},
   "source": [
    "The highest price is for 3 bedroom appartments (3235 eur p/m2)"
   ]
  },
  {
   "cell_type": "markdown",
   "metadata": {},
   "source": [
    "Maybe we want to buy a home which has more space, e.g.more than 100m2. Let us see which neigbourhood has the most offers of spacious appartments."
   ]
  },
  {
   "cell_type": "code",
   "execution_count": 91,
   "metadata": {},
   "outputs": [
    {
     "data": {
      "text/html": [
       "<div>\n",
       "<style scoped>\n",
       "    .dataframe tbody tr th:only-of-type {\n",
       "        vertical-align: middle;\n",
       "    }\n",
       "\n",
       "    .dataframe tbody tr th {\n",
       "        vertical-align: top;\n",
       "    }\n",
       "\n",
       "    .dataframe thead th {\n",
       "        text-align: right;\n",
       "    }\n",
       "</style>\n",
       "<table border=\"1\" class=\"dataframe\">\n",
       "  <thead>\n",
       "    <tr style=\"text-align: right;\">\n",
       "      <th></th>\n",
       "      <th>Location</th>\n",
       "      <th>RE &gt; 100m2 in region</th>\n",
       "    </tr>\n",
       "  </thead>\n",
       "  <tbody>\n",
       "    <tr>\n",
       "      <th>83</th>\n",
       "      <td>Център</td>\n",
       "      <td>83</td>\n",
       "    </tr>\n",
       "    <tr>\n",
       "      <th>42</th>\n",
       "      <td>Лозенец</td>\n",
       "      <td>76</td>\n",
       "    </tr>\n",
       "    <tr>\n",
       "      <th>7</th>\n",
       "      <td>Бояна</td>\n",
       "      <td>68</td>\n",
       "    </tr>\n",
       "    <tr>\n",
       "      <th>64</th>\n",
       "      <td>Оборище</td>\n",
       "      <td>61</td>\n",
       "    </tr>\n",
       "    <tr>\n",
       "      <th>39</th>\n",
       "      <td>Кръстова Вада</td>\n",
       "      <td>57</td>\n",
       "    </tr>\n",
       "    <tr>\n",
       "      <th>11</th>\n",
       "      <td>Витоша</td>\n",
       "      <td>49</td>\n",
       "    </tr>\n",
       "    <tr>\n",
       "      <th>21</th>\n",
       "      <td>Драгалевци</td>\n",
       "      <td>49</td>\n",
       "    </tr>\n",
       "    <tr>\n",
       "      <th>2</th>\n",
       "      <td>Банкя (гр.)</td>\n",
       "      <td>32</td>\n",
       "    </tr>\n",
       "    <tr>\n",
       "      <th>46</th>\n",
       "      <td>Малинова Долина</td>\n",
       "      <td>28</td>\n",
       "    </tr>\n",
       "    <tr>\n",
       "      <th>49</th>\n",
       "      <td>Манастирски Ливади</td>\n",
       "      <td>24</td>\n",
       "    </tr>\n",
       "    <tr>\n",
       "      <th>75</th>\n",
       "      <td>Симеоново</td>\n",
       "      <td>24</td>\n",
       "    </tr>\n",
       "  </tbody>\n",
       "</table>\n",
       "</div>"
      ],
      "text/plain": [
       "               Location  RE > 100m2 in region\n",
       "83               Център                    83\n",
       "42              Лозенец                    76\n",
       "7                 Бояна                    68\n",
       "64              Оборище                    61\n",
       "39        Кръстова Вада                    57\n",
       "11               Витоша                    49\n",
       "21           Драгалевци                    49\n",
       "2           Банкя (гр.)                    32\n",
       "46      Малинова Долина                    28\n",
       "49   Манастирски Ливади                    24\n",
       "75            Симеоново                    24"
      ]
     },
     "execution_count": 91,
     "metadata": {},
     "output_type": "execute_result"
    }
   ],
   "source": [
    "# filter appartments > 100 m2\n",
    "df_large_re = df[df['Size (m2)'] >= 100]\n",
    "\n",
    "# group by neighbourhood\n",
    "df_large_re_per_neighbourhood = df_large_re.groupby('Location')['Price p/m2'].count().reset_index()\n",
    "\n",
    "# rename the column for easier understanding\n",
    "df_large_re_per_neighbourhood.rename(columns={'Price p/m2': 'RE > 100m2 in region'}, inplace=True)\n",
    "\n",
    "# sort the values by the number of real estate > 100 in th neighbourhood\n",
    "df_large_re_per_neighbourhood = df_large_re_per_neighbourhood.sort_values(by = 'RE > 100m2 in region', ascending=False)\n",
    "\n",
    "df_large_re_per_neighbourhood.reset_index(drop=True)\n",
    "\n",
    "# keep only the ones which have at least 20 large apaprtments\n",
    "df_large_re_per_neighbourhood = df_large_re_per_neighbourhood[df_large_re_per_neighbourhood['RE > 100m2 in region'] >= 20]\n",
    "df_large_re_per_neighbourhood"
   ]
  },
  {
   "cell_type": "code",
   "execution_count": 92,
   "metadata": {},
   "outputs": [
    {
     "data": {
      "text/html": [
       "<div>\n",
       "<style scoped>\n",
       "    .dataframe tbody tr th:only-of-type {\n",
       "        vertical-align: middle;\n",
       "    }\n",
       "\n",
       "    .dataframe tbody tr th {\n",
       "        vertical-align: top;\n",
       "    }\n",
       "\n",
       "    .dataframe thead th {\n",
       "        text-align: right;\n",
       "    }\n",
       "</style>\n",
       "<table border=\"1\" class=\"dataframe\">\n",
       "  <thead>\n",
       "    <tr style=\"text-align: right;\">\n",
       "      <th></th>\n",
       "      <th>Location</th>\n",
       "      <th>min price</th>\n",
       "      <th>max price</th>\n",
       "      <th>avg price</th>\n",
       "      <th>RE &gt; 100m2 in region</th>\n",
       "    </tr>\n",
       "  </thead>\n",
       "  <tbody>\n",
       "    <tr>\n",
       "      <th>0</th>\n",
       "      <td>Център</td>\n",
       "      <td>191</td>\n",
       "      <td>9375</td>\n",
       "      <td>3862.167832</td>\n",
       "      <td>83</td>\n",
       "    </tr>\n",
       "    <tr>\n",
       "      <th>1</th>\n",
       "      <td>Лозенец</td>\n",
       "      <td>1542</td>\n",
       "      <td>7508</td>\n",
       "      <td>3362.545455</td>\n",
       "      <td>76</td>\n",
       "    </tr>\n",
       "    <tr>\n",
       "      <th>2</th>\n",
       "      <td>Бояна</td>\n",
       "      <td>2</td>\n",
       "      <td>5529</td>\n",
       "      <td>2611.742857</td>\n",
       "      <td>68</td>\n",
       "    </tr>\n",
       "    <tr>\n",
       "      <th>3</th>\n",
       "      <td>Оборище</td>\n",
       "      <td>1500</td>\n",
       "      <td>5991</td>\n",
       "      <td>3439.121622</td>\n",
       "      <td>61</td>\n",
       "    </tr>\n",
       "    <tr>\n",
       "      <th>4</th>\n",
       "      <td>Кръстова Вада</td>\n",
       "      <td>1065</td>\n",
       "      <td>5517</td>\n",
       "      <td>2679.918033</td>\n",
       "      <td>57</td>\n",
       "    </tr>\n",
       "    <tr>\n",
       "      <th>5</th>\n",
       "      <td>Витоша</td>\n",
       "      <td>1085</td>\n",
       "      <td>3386</td>\n",
       "      <td>2010.629630</td>\n",
       "      <td>49</td>\n",
       "    </tr>\n",
       "    <tr>\n",
       "      <th>6</th>\n",
       "      <td>Драгалевци</td>\n",
       "      <td>1019</td>\n",
       "      <td>6889</td>\n",
       "      <td>2514.888889</td>\n",
       "      <td>49</td>\n",
       "    </tr>\n",
       "    <tr>\n",
       "      <th>7</th>\n",
       "      <td>Банкя (гр.)</td>\n",
       "      <td>616</td>\n",
       "      <td>2920</td>\n",
       "      <td>1672.545455</td>\n",
       "      <td>32</td>\n",
       "    </tr>\n",
       "    <tr>\n",
       "      <th>8</th>\n",
       "      <td>Малинова Долина</td>\n",
       "      <td>708</td>\n",
       "      <td>4095</td>\n",
       "      <td>2095.625000</td>\n",
       "      <td>28</td>\n",
       "    </tr>\n",
       "    <tr>\n",
       "      <th>9</th>\n",
       "      <td>Манастирски Ливади</td>\n",
       "      <td>1250</td>\n",
       "      <td>4929</td>\n",
       "      <td>2644.405405</td>\n",
       "      <td>24</td>\n",
       "    </tr>\n",
       "    <tr>\n",
       "      <th>10</th>\n",
       "      <td>Симеоново</td>\n",
       "      <td>1365</td>\n",
       "      <td>3957</td>\n",
       "      <td>2371.703704</td>\n",
       "      <td>24</td>\n",
       "    </tr>\n",
       "  </tbody>\n",
       "</table>\n",
       "</div>"
      ],
      "text/plain": [
       "               Location  min price  max price    avg price  \\\n",
       "0                Център        191       9375  3862.167832   \n",
       "1               Лозенец       1542       7508  3362.545455   \n",
       "2                 Бояна          2       5529  2611.742857   \n",
       "3               Оборище       1500       5991  3439.121622   \n",
       "4         Кръстова Вада       1065       5517  2679.918033   \n",
       "5                Витоша       1085       3386  2010.629630   \n",
       "6            Драгалевци       1019       6889  2514.888889   \n",
       "7           Банкя (гр.)        616       2920  1672.545455   \n",
       "8       Малинова Долина        708       4095  2095.625000   \n",
       "9    Манастирски Ливади       1250       4929  2644.405405   \n",
       "10            Симеоново       1365       3957  2371.703704   \n",
       "\n",
       "    RE > 100m2 in region  \n",
       "0                     83  \n",
       "1                     76  \n",
       "2                     68  \n",
       "3                     61  \n",
       "4                     57  \n",
       "5                     49  \n",
       "6                     49  \n",
       "7                     32  \n",
       "8                     28  \n",
       "9                     24  \n",
       "10                    24  "
      ]
     },
     "execution_count": 92,
     "metadata": {},
     "output_type": "execute_result"
    }
   ],
   "source": [
    "# group to see have the price information and the number of large appartments for each location\n",
    "\n",
    "df_merged_neighbourhood = pd.merge(df_neighburhood_price_grouped, df_large_re_per_neighbourhood, how='right', on='Location')\n",
    "df_merged_neighbourhood"
   ]
  },
  {
   "cell_type": "markdown",
   "metadata": {},
   "source": [
    "We managed to narrow down the search for a real estate to 10 neighbourhoods."
   ]
  },
  {
   "cell_type": "code",
   "execution_count": 100,
   "metadata": {},
   "outputs": [
    {
     "data": {
      "image/png": "[encoded data removed]",
      "text/plain": [
       "<Figure size 1200x800 with 1 Axes>"
      ]
     },
     "metadata": {},
     "output_type": "display_data"
    }
   ],
   "source": [
    "import matplotlib.pyplot as plt\n",
    "\n",
    "sns.set_theme(style=\"darkgrid\")\n",
    "\n",
    "# Set the figure size\n",
    "plt.figure(figsize=(12, 8))\n",
    "\n",
    "# use the scatterplot function to build the bubble map\n",
    "ax = sns.scatterplot(\n",
    "    data=df_merged_neighbourhood,\n",
    "    x=\"Location\",\n",
    "    y=\"avg price\",\n",
    "    size=\"RE > 100m2 in region\",\n",
    "    legend=True,\n",
    "    sizes=(20, 2000),\n",
    "    )\n",
    "\n",
    "plt.xticks(rotation=45)\n",
    "plt.show;"
   ]
  }
 ],
 "metadata": {
  "kernelspec": {
   "display_name": "Python 3",
   "language": "python",
   "name": "python3"
  },
  "language_info": {
   "codemirror_mode": {
    "name": "ipython",
    "version": 3
   },
   "file_extension": ".py",
   "mimetype": "text/x-python",
   "name": "python",
   "nbconvert_exporter": "python",
   "pygments_lexer": "ipython3",
   "version": "3.10.2"
  }
 },
 "nbformat": 4,
 "nbformat_minor": 2
}
